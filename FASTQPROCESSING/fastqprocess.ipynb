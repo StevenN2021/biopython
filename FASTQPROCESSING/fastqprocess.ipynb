{
 "cells": [
  {
   "cell_type": "markdown",
   "metadata": {},
   "source": [
    "### Processing a demo fastq file using biopython "
   ]
  },
  {
   "cell_type": "markdown",
   "metadata": {},
   "source": [
    "### Read FASTQ file"
   ]
  },
  {
   "cell_type": "code",
   "execution_count": 2,
   "metadata": {},
   "outputs": [],
   "source": [
    "from collections import defaultdict\n",
    "import gzip\n",
    "%matplotlib inline\n",
    "import matplotlib.pyplot as plt\n",
    "import pandas as pd\n",
    "\n",
    "from Bio import SeqIO"
   ]
  },
  {
   "cell_type": "code",
   "execution_count": 11,
   "metadata": {},
   "outputs": [
    {
     "name": "stdout",
     "output_type": "stream",
     "text": [
      "ID: SRR960459.1\n",
      "Name: SRR960459.1\n",
      "Description: SRR960459.1 HWI-ST330:304:H045HADXX:1:1101:1162:2055 length=100\n",
      "Number of features: 0\n",
      "Per letter annotation for: phred_quality\n",
      "Seq('NAGAACTTGGCGGCGAATGGGCTGACCGCTTCCTCGTGCTTTACGGTATCGCCG...GTT')\n",
      "[2, 16, 28, 35, 35, 37, 37, 37, 39, 39, 39, 38, 39, 40, 41, 41, 41, 41, 40, 41, 41, 41, 38, 36, 38, 38, 32, 37, 38, 33, 39, 39, 36, 39, 38, 37, 33, 37, 37, 35, 36, 35, 36, 34, 35, 35, 32, 28, 28, 34, 33, 31, 33, 35, 35, 35, 35, 35, 30, 26, 33, 12, 27, 34, 33, 35, 35, 35, 29, 33, 33, 33, 33, 35, 35, 33, 20, 27, 31, 35, 35, 35, 34, 35, 35, 33, 31, 12, 24, 32, 34, 35, 35, 35, 35, 33, 30, 33, 27, 30]\n"
     ]
    }
   ],
   "source": [
    "recs = SeqIO.parse(open(\n",
    "    '/Users/stevennguyen/Bioinformatics/demo.fastq', 'rt',encoding='utf-8'), 'fastq')\n",
    "rec = next(recs)\n",
    "print(rec)\n",
    "print(rec.letter_annotations['phred_quality'])"
   ]
  },
  {
   "cell_type": "markdown",
   "metadata": {},
   "source": [
    "### Distribution of nucleotides for each read"
   ]
  },
  {
   "cell_type": "code",
   "execution_count": 15,
   "metadata": {},
   "outputs": [
    {
     "name": "stdout",
     "output_type": "stream",
     "text": [
      "Total GC content: 0.48%\n"
     ]
    }
   ],
   "source": [
    "from Bio.SeqUtils import gc_fraction\n",
    "\n",
    "gc_data = ((gc_fraction(rec.seq), len(rec.seq)) for rec in SeqIO.parse(open('/Users/stevennguyen/Bioinformatics/demo.fastq', 'rt',encoding='utf-8'), 'fastq'))\n",
    "\n",
    "total_gc,total_bases = map(sum,zip(*gc_data))\n",
    "\n",
    "print(f'Total GC content: {total_gc/total_bases:.2%}')"
   ]
  },
  {
   "cell_type": "markdown",
   "metadata": {},
   "source": [
    "### Assessing quality of reads \n"
   ]
  },
  {
   "cell_type": "code",
   "execution_count": 18,
   "metadata": {},
   "outputs": [
    {
     "name": "stdout",
     "output_type": "stream",
     "text": [
      "41: 15.00 18747654\n",
      "40: 8.42 10523247\n",
      "39: 8.99 11238087\n",
      "38: 5.78 7229233\n",
      "37: 8.34 10424680\n",
      "36: 4.73 5907721\n",
      "35: 12.34 15424007\n",
      "34: 7.20 8995573\n",
      "33: 4.03 5031863\n",
      "32: 2.53 3163431\n",
      "31: 3.64 4554799\n",
      "30: 2.47 3085767\n",
      "29: 1.65 2057438\n",
      "28: 0.91 1133224\n",
      "27: 1.15 1433761\n",
      "26: 1.24 1544653\n",
      "25: 0.94 1170931\n",
      "24: 0.80 997686\n",
      "23: 0.62 772347\n",
      "22: 0.39 482610\n",
      "21: 0.23 285721\n",
      "20: 0.47 582242\n",
      "19: 0.30 377849\n",
      "18: 0.45 562633\n",
      "17: 0.21 256562\n",
      "16: 0.20 251271\n",
      "15: 0.25 315871\n",
      "14: 0.08 105355\n",
      "13: 0.19 234136\n",
      "12: 0.08 100494\n",
      "11: 0.09 112137\n",
      "10: 0.18 228732\n",
      "9: 0.27 335172\n",
      "8: 0.38 472091\n",
      "7: 0.33 415165\n",
      "6: 0.07 82512\n",
      "5: 0.04 52654\n",
      "2: 5.05 6310691\n"
     ]
    }
   ],
   "source": [
    "recs = SeqIO.parse(open('/Users/stevennguyen/Bioinformatics/demo.fastq', 'rt',encoding='utf-8'), 'fastq')\n",
    "count_qual = defaultdict(int)\n",
    "for rec in recs:\n",
    "    for i, q in enumerate(rec.letter_annotations['phred_quality']):\n",
    "        count_qual[q] += 1\n",
    "total = sum(count_qual.values())\n",
    "for qual,count in sorted(count_qual.items(),reverse=True):\n",
    "    print('%d: %.2f %d' % (qual, 100. *count / total, count))"
   ]
  },
  {
   "cell_type": "markdown",
   "metadata": {},
   "source": [
    "### Plot a histogram/boxplot to visualize "
   ]
  },
  {
   "cell_type": "code",
   "execution_count": 22,
   "metadata": {},
   "outputs": [
    {
     "data": {
      "image/png": "[encoded data removed]",
      "text/plain": [
       "<Figure size 640x480 with 1 Axes>"
      ]
     },
     "metadata": {},
     "output_type": "display_data"
    }
   ],
   "source": [
    "plt.hist(list(count_qual.keys()), weights=list(count_qual.values()), bins=range(0, 50), align='left')\n",
    "plt.xlabel('Quality score')\n",
    "plt.ylabel('Count')\n",
    "plt.show()"
   ]
  }
 ],
 "metadata": {
  "kernelspec": {
   "display_name": "base",
   "language": "python",
   "name": "python3"
  },
  "language_info": {
   "codemirror_mode": {
    "name": "ipython",
    "version": 3
   },
   "file_extension": ".py",
   "mimetype": "text/x-python",
   "name": "python",
   "nbconvert_exporter": "python",
   "pygments_lexer": "ipython3",
   "version": "3.11.5"
  },
  "orig_nbformat": 4
 },
 "nbformat": 4,
 "nbformat_minor": 2
}
