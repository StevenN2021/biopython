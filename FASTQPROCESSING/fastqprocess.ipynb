{
 "cells": [
  {
   "cell_type": "markdown",
   "metadata": {},
   "source": [
    "### Processing a demo fastq file using biopython "
   ]
  },
  {
   "cell_type": "markdown",
   "metadata": {},
   "source": [
    "### Read FASTQ file"
   ]
  },
  {
   "cell_type": "code",
   "execution_count": 2,
   "metadata": {},
   "outputs": [],
   "source": [
    "from collections import defaultdict\n",
    "import gzip\n",
    "%matplotlib inline\n",
    "import matplotlib.pyplot as plt\n",
    "import pandas as pd\n",
    "\n",
    "from Bio import SeqIO"
   ]
  },
  {
   "cell_type": "code",
   "execution_count": 11,
   "metadata": {},
   "outputs": [
    {
     "name": "stdout",
     "output_type": "stream",
     "text": [
      "ID: SRR960459.1\n",
      "Name: SRR960459.1\n",
      "Description: SRR960459.1 HWI-ST330:304:H045HADXX:1:1101:1162:2055 length=100\n",
      "Number of features: 0\n",
      "Per letter annotation for: phred_quality\n",
      "Seq('NAGAACTTGGCGGCGAATGGGCTGACCGCTTCCTCGTGCTTTACGGTATCGCCG...GTT')\n",
      "[2, 16, 28, 35, 35, 37, 37, 37, 39, 39, 39, 38, 39, 40, 41, 41, 41, 41, 40, 41, 41, 41, 38, 36, 38, 38, 32, 37, 38, 33, 39, 39, 36, 39, 38, 37, 33, 37, 37, 35, 36, 35, 36, 34, 35, 35, 32, 28, 28, 34, 33, 31, 33, 35, 35, 35, 35, 35, 30, 26, 33, 12, 27, 34, 33, 35, 35, 35, 29, 33, 33, 33, 33, 35, 35, 33, 20, 27, 31, 35, 35, 35, 34, 35, 35, 33, 31, 12, 24, 32, 34, 35, 35, 35, 35, 33, 30, 33, 27, 30]\n"
     ]
    }
   ],
   "source": [
    "recs = SeqIO.parse(open(\n",
    "    '/Users/stevennguyen/Bioinformatics/demo.fastq', 'rt',encoding='utf-8'), 'fastq')\n",
    "rec = next(recs)\n",
    "print(rec)\n",
    "print(rec.letter_annotations['phred_quality'])"
   ]
  },
  {
   "cell_type": "markdown",
   "metadata": {},
   "source": [
    "### Distribution of nucleotides for each read"
   ]
  },
  {
   "cell_type": "code",
   "execution_count": 15,
   "metadata": {},
   "outputs": [
    {
     "name": "stdout",
     "output_type": "stream",
     "text": [
      "Total GC content: 0.48%\n"
     ]
    }
   ],
   "source": [
    "from Bio.SeqUtils import gc_fraction\n",
    "\n",
    "gc_data = ((gc_fraction(rec.seq), len(rec.seq)) for rec in SeqIO.parse(open('/Users/stevennguyen/Bioinformatics/demo.fastq', 'rt',encoding='utf-8'), 'fastq'))\n",
    "\n",
    "total_gc,total_bases = map(sum,zip(*gc_data))\n",
    "\n",
    "print(f'Total GC content: {total_gc/total_bases:.2%}')"
   ]
  },
  {
   "cell_type": "markdown",
   "metadata": {},
   "source": [
    "### Assessing quality of reads \n"
   ]
  },
  {
   "cell_type": "code",
   "execution_count": null,
   "metadata": {},
   "outputs": [],
   "source": []
  }
 ],
 "metadata": {
  "kernelspec": {
   "display_name": "base",
   "language": "python",
   "name": "python3"
  },
  "language_info": {
   "codemirror_mode": {
    "name": "ipython",
    "version": 3
   },
   "file_extension": ".py",
   "mimetype": "text/x-python",
   "name": "python",
   "nbconvert_exporter": "python",
   "pygments_lexer": "ipython3",
   "version": "3.11.5"
  },
  "orig_nbformat": 4
 },
 "nbformat": 4,
 "nbformat_minor": 2
}
